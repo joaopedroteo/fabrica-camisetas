{
 "cells": [
  {
   "cell_type": "markdown",
   "metadata": {},
   "source": [
    "# Fabrica de Camisetas "
   ]
  },
  {
   "cell_type": "markdown",
   "metadata": {},
   "source": [
    "Usando Gurobi como otimizador"
   ]
  },
  {
   "cell_type": "code",
   "execution_count": 18,
   "metadata": {},
   "outputs": [
    {
     "name": "stdout",
     "output_type": "stream",
     "text": [
      "Academic license - for non-commercial use only\n"
     ]
    },
    {
     "data": {
      "text/latex": [
       "$$ \\begin{alignat*}{1}\\text{feasibility}\\\\\n",
       "\\text{Subject to} \\quad\\end{alignat*}\n",
       " $$"
      ],
      "text/plain": [
       "A JuMP Model\n",
       "Feasibility problem with:\n",
       "Variables: 0\n",
       "Model mode: AUTOMATIC\n",
       "CachingOptimizer state: EMPTY_OPTIMIZER\n",
       "Solver name: Gurobi"
      ]
     },
     "execution_count": 18,
     "metadata": {},
     "output_type": "execute_result"
    }
   ],
   "source": [
    "#!/usr/bin/env  julia\n",
    "using JuMP\n",
    "using Gurobi\n",
    "\n",
    "m = Model(with_optimizer(Gurobi.Optimizer))"
   ]
  },
  {
   "cell_type": "markdown",
   "metadata": {},
   "source": [
    "Dados do problemas"
   ]
  },
  {
   "cell_type": "code",
   "execution_count": 25,
   "metadata": {},
   "outputs": [
    {
     "data": {
      "text/plain": [
       "10000"
      ]
     },
     "execution_count": 25,
     "metadata": {},
     "output_type": "execute_result"
    }
   ],
   "source": [
    "# as semanas de produção\n",
    "semanas = collect(1:4)\n",
    "\n",
    "# os custos da produção de uma camiseta de cada semana\n",
    "custos = [2, 2, 2.5, 2.5]\n",
    "\n",
    "# as demandas de cada semana\n",
    "demandas_semanais = [5000, 10000, 30000, 60000]\n",
    "\n",
    "# custo do estoque de uma camiseta por semana\n",
    "custo_estoque = 0.2\n",
    "\n",
    "# custo adicional de produção quando houver hora extra\n",
    "custo_hora_extra = 0.8\n",
    "\n",
    "# capacidade maxima de produção em uma semana\n",
    "capacidade_maxima = 25000\n",
    "\n",
    "# capacidade extra de produção em uma das duas primeiras semanas\n",
    "capacidade_extra_max = 10000"
   ]
  },
  {
   "cell_type": "markdown",
   "metadata": {},
   "source": [
    "Variáveis do problema que queremos otimizar, são a quatidade de camisetas a ser produzida em cada semana."
   ]
  },
  {
   "cell_type": "code",
   "execution_count": 20,
   "metadata": {},
   "outputs": [
    {
     "data": {
      "text/plain": [
       "1-dimensional DenseAxisArray{VariableRef,1,...} with index sets:\n",
       "    Dimension 1, [1, 2, 3, 4]\n",
       "And data, a 4-element Array{VariableRef,1}:\n",
       " quantidades_extras[1]\n",
       " quantidades_extras[2]\n",
       " quantidades_extras[3]\n",
       " quantidades_extras[4]"
      ]
     },
     "execution_count": 20,
     "metadata": {},
     "output_type": "execute_result"
    }
   ],
   "source": [
    "@variable(m, quantidades[semanas] >= 0, Int)\n",
    "@variable(m, quantidades_extras[semanas] >= 0, Int)"
   ]
  },
  {
   "cell_type": "markdown",
   "metadata": {},
   "source": [
    "Função objetivo do problema"
   ]
  },
  {
   "cell_type": "code",
   "execution_count": 21,
   "metadata": {},
   "outputs": [
    {
     "data": {
      "text/latex": [
       "$$ 3.6000000000000005 quantidades_extras_{1} + 2.8000000000000007 quantidades_{1} + 3.4000000000000004 quantidades_extras_{2} + 2.6000000000000005 quantidades_{2} + 3.7 quantidades_extras_{3} + 2.9000000000000004 quantidades_{3} + 3.5 quantidades_extras_{4} + 2.7 quantidades_{4} - 34000 $$"
      ],
      "text/plain": [
       "3.6000000000000005 quantidades_extras[1] + 2.8000000000000007 quantidades[1] + 3.4000000000000004 quantidades_extras[2] + 2.6000000000000005 quantidades[2] + 3.7 quantidades_extras[3] + 2.9000000000000004 quantidades[3] + 3.5 quantidades_extras[4] + 2.7 quantidades[4] - 34000"
      ]
     },
     "execution_count": 21,
     "metadata": {},
     "output_type": "execute_result"
    }
   ],
   "source": [
    "@objective(m, Min, sum(\n",
    "                        quantidades_extras[i] * (custos[i] + custo_hora_extra)\n",
    "                        +\n",
    "                        quantidades[i] * custos[i]\n",
    "                        +\n",
    "                        (sum(\n",
    "                            quantidades[j] + quantidades_extras[j] - demandas_semanais[j]\n",
    "                         for j in collect(1:i)\n",
    "                        )\n",
    "                        *\n",
    "                        custo_estoque)\n",
    "                    for i in semanas\n",
    "                   )\n",
    "           )"
   ]
  },
  {
   "cell_type": "markdown",
   "metadata": {},
   "source": [
    "Adicionando restrições do problema"
   ]
  },
  {
   "cell_type": "code",
   "execution_count": 22,
   "metadata": {},
   "outputs": [
    {
     "name": "stdout",
     "output_type": "stream",
     "text": [
      "Min 3.6000000000000005 quantidades_extras[1] + 2.8000000000000007 quantidades[1] + 3.4000000000000004 quantidades_extras[2] + 2.6000000000000005 quantidades[2] + 3.7 quantidades_extras[3] + 2.9000000000000004 quantidades[3] + 3.5 quantidades_extras[4] + 2.7 quantidades[4] - 34000\n",
      "Subject to\n",
      " quantidades[1] integer\n",
      " quantidades[2] integer\n",
      " quantidades[3] integer\n",
      " quantidades[4] integer\n",
      " quantidades_extras[1] integer\n",
      " quantidades_extras[2] integer\n",
      " quantidades_extras[3] integer\n",
      " quantidades_extras[4] integer\n",
      " quantidades[1] ≥ 0.0\n",
      " quantidades[2] ≥ 0.0\n",
      " quantidades[3] ≥ 0.0\n",
      " quantidades[4] ≥ 0.0\n",
      " quantidades_extras[1] ≥ 0.0\n",
      " quantidades_extras[2] ≥ 0.0\n",
      " quantidades_extras[3] ≥ 0.0\n",
      " quantidades_extras[4] ≥ 0.0\n",
      " quantidades_extras[3] = 0.0\n",
      " quantidades_extras[4] = 0.0\n",
      " quantidades[1] + quantidades_extras[1] ≥ 5000.0\n",
      " quantidades[1] + quantidades_extras[1] + quantidades[2] + quantidades_extras[2] ≥ 15000.0\n",
      " quantidades[1] + quantidades_extras[1] + quantidades[2] + quantidades_extras[2] + quantidades[3] + quantidades_extras[3] ≥ 45000.0\n",
      " quantidades[1] + quantidades_extras[1] + quantidades[2] + quantidades_extras[2] + quantidades[3] + quantidades_extras[3] + quantidades[4] + quantidades_extras[4] ≥ 105000.0\n",
      " quantidades[1] ≤ 25000.0\n",
      " quantidades[2] ≤ 25000.0\n",
      " quantidades[3] ≤ 25000.0\n",
      " quantidades[4] ≤ 25000.0\n",
      " quantidades_extras[1] ≤ 10000.0\n",
      " quantidades_extras[2] ≤ 10000.0\n",
      " quantidades_extras[3] ≤ 10000.0\n",
      " quantidades_extras[4] ≤ 10000.0\n",
      "\n"
     ]
    }
   ],
   "source": [
    "@constraints(m,\n",
    "    begin\n",
    "        [i in semanas], quantidades[i] <= capacidade_maxima\n",
    "        [i in semanas], quantidades_extras[i] <= capacidade_extra_max\n",
    "        [i=3:4], quantidades_extras[i] == 0\n",
    "        [i in semanas], sum(quantidades[j] + quantidades_extras[j] for j in collect(1:i)) >= sum(demandas_semanais[j] for j in collect(1:i)) \n",
    "    end\n",
    ")\n",
    "\n",
    "println(m)"
   ]
  },
  {
   "cell_type": "markdown",
   "metadata": {},
   "source": [
    "Otimizando o problema e exibindo os resultados"
   ]
  },
  {
   "cell_type": "code",
   "execution_count": 23,
   "metadata": {},
   "outputs": [
    {
     "name": "stdout",
     "output_type": "stream",
     "text": [
      "Academic license - for non-commercial use only\n",
      "Optimize a model with 14 rows, 8 columns and 30 nonzeros\n",
      "Variable types: 0 continuous, 8 integer (0 binary)\n",
      "Coefficient statistics:\n",
      "  Matrix range     [1e+00, 1e+00]\n",
      "  Objective range  [3e+00, 4e+00]\n",
      "  Bounds range     [0e+00, 0e+00]\n",
      "  RHS range        [5e+03, 1e+05]\n",
      "Presolve removed 14 rows and 8 columns\n",
      "Presolve time: 0.00s\n",
      "Presolve: All rows and columns removed\n",
      "\n",
      "Explored 0 nodes (0 simplex iterations) in 0.00 seconds\n",
      "Thread count was 1 (of 2 available processors)\n",
      "\n",
      "Solution count 1: 258000 \n",
      "\n",
      "Optimal solution found (tolerance 1.00e-04)\n",
      "Best objective 2.580000000000e+05, best bound 2.580000000000e+05, gap 0.0000%\n",
      "Tempo: 0.005259037017822266 s\n",
      "Resultado função: 258000.0\n"
     ]
    }
   ],
   "source": [
    "start_time = time()\n",
    "optimize!(m)\n",
    "end_time = time()\n",
    "println(\"Tempo: $(end_time - start_time) s\")\n",
    "println(\"Resultado função: \", JuMP.objective_value(m))"
   ]
  },
  {
   "cell_type": "markdown",
   "metadata": {},
   "source": [
    "Mostrando a quantidade de camisetas a ser fabricada em cada semana"
   ]
  },
  {
   "cell_type": "code",
   "execution_count": 24,
   "metadata": {},
   "outputs": [
    {
     "name": "stdout",
     "output_type": "stream",
     "text": [
      "quantidades(semana 1): 25000.0\n",
      "quantidades_extras(semana 1): 0.0\n",
      "quantidades(semana 2): 25000.0\n",
      "quantidades_extras(semana 2): 5000.0\n",
      "quantidades(semana 3): 25000.0\n",
      "quantidades_extras(semana 3): 0.0\n",
      "quantidades(semana 4): 25000.0\n",
      "quantidades_extras(semana 4): 0.0\n"
     ]
    }
   ],
   "source": [
    "for i in semanas\n",
    "    if (JuMP.value(quantidades[i]) > 0)\n",
    "        println(\"quantidades(semana \", i, \"): \", JuMP.value(quantidades[i]))\n",
    "    elseif (JuMP.value(quantidades[i]) == 0)\n",
    "        println(\"quantidades(semana \", i, \"): \", 0.0)\n",
    "    end\n",
    "    if (JuMP.value(quantidades_extras[i]) > 0)\n",
    "        println(\"quantidades_extras(semana \", i, \"): \", JuMP.value(quantidades_extras[i]))\n",
    "    elseif (JuMP.value(quantidades_extras[i]) == 0)\n",
    "        println(\"quantidades_extras(semana \", i, \"): \", 0.0)\n",
    "    end\n",
    "end"
   ]
  },
  {
   "cell_type": "code",
   "execution_count": null,
   "metadata": {},
   "outputs": [],
   "source": []
  }
 ],
 "metadata": {
  "kernelspec": {
   "display_name": "Julia 1.1.0",
   "language": "julia",
   "name": "julia-1.1"
  },
  "language_info": {
   "file_extension": ".jl",
   "mimetype": "application/julia",
   "name": "julia",
   "version": "1.1.0"
  }
 },
 "nbformat": 4,
 "nbformat_minor": 2
}
